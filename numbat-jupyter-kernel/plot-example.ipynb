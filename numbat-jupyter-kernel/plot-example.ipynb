{
 "cells": [
  {
   "cell_type": "code",
   "execution_count": 1,
   "metadata": {
    "vscode": {
     "languageId": "numbat"
    }
   },
   "outputs": [
    {
     "data": {
      "text/html": [
       "<sub>Elapsed time: 0.00 seconds.</sub>"
      ]
     },
     "execution_count": 1,
     "metadata": {},
     "output_type": "execute_result"
    }
   ],
   "source": [
    "let A0 = 3 cm\n",
    "let omega = 20 Hz\n",
    "let lambda = 1.5 s\n",
    "\n",
    "fn amplitude(time: Time) -> Length = A0 e^(-time/lambda) × cos(omega time)"
   ]
  },
  {
   "cell_type": "code",
   "execution_count": 2,
   "metadata": {
    "vscode": {
     "languageId": "numbat"
    }
   },
   "outputs": [
    {
     "data": {
      "text/plain": [
       "error while plotting 'damped_oscillation' with input-unit 's'."
      ]
     },
     "execution_count": 2,
     "metadata": {},
     "output_type": "execute_result"
    },
    {
     "data": {
      "text/html": [
       "<sub>Elapsed time: 0.00 seconds.</sub>"
      ]
     },
     "execution_count": 2,
     "metadata": {},
     "output_type": "execute_result"
    }
   ],
   "source": [
    "plot amplitude s"
   ]
  }
 ],
 "metadata": {
  "kernelspec": {
   "display_name": "Numbat",
   "language": "numbat",
   "name": "numbat"
  },
  "language_info": {
   "codemirror_mode": "rust",
   "file_extension": "*.nbt",
   "mimetype": "python",
   "name": "Numbat",
   "nbconvert_exporter": "rust",
   "pygment_lexer": "python",
   "version": "0.1.0"
  },
  "orig_nbformat": 4
 },
 "nbformat": 4,
 "nbformat_minor": 2
}
