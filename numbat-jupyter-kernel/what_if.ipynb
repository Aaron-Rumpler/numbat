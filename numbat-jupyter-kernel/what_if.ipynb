{
 "cells": [
  {
   "cell_type": "markdown",
   "id": "e5e635b5-bd0e-4ba8-82bb-f9a53937be79",
   "metadata": {},
   "source": [
    "In this tutorial, you will use Numbat to calculate how many bananas you would need to power a\n",
    "house. This is based on [an article](https://what-if.xkcd.com/158/) in the great *what if?* series\n",
    "by the author of the xkcd comics.\n",
    "\n",
    "<p align=\"center\"><img src=\"https://what-if.xkcd.com/imgs/a/158/hazard.png\"></p>\n",
    "\n",
    "Bananas contain potassium. In its natural form, potassium contains a tiny fraction (0.0117%)\n",
    "of the isotope <sup style=\"line-height: 0\">40</sup>K, which is radioactive. The idea is to\n",
    "use the radioactive decay energy as a power source. Open an interactive Numbat session by\n",
    "typing `numbat` in your favorite terminal emulator. We start by entering a few [facts about\n",
    "potassium-40](https://en.wikipedia.org/wiki/Potassium-40):\n"
   ]
  },
  {
   "cell_type": "code",
   "execution_count": 1,
   "id": "c30d2761-0676-4bc4-9ae1-0f9dfaf7c006",
   "metadata": {},
   "outputs": [
    {
     "data": {
      "text/html": [
       "<sub>Elapsed time: 0.00 seconds.</sub>"
      ]
     },
     "execution_count": 1,
     "metadata": {},
     "output_type": "execute_result"
    }
   ],
   "source": [
    "let halflife = 1.25 billion years\n",
    "let occurence = 0.0117%\n",
    "let molar_mass = 40 g / mol"
   ]
  },
  {
   "cell_type": "markdown",
   "id": "9518afd6-7a56-4409-bf6d-2c7706c504d7",
   "metadata": {},
   "source": [
    "New constants are introduced with the `let` keyword. We define these physical quantities\n",
    "with their respective physical units (`years`, `percent`, `g / mol`) in order to profit from\n",
    "Numbats unit-safety and unit-conversion features later on.\n",
    "\n",
    "Our first goal is to compute the radioactivity of natural potassium. Instead of dealing with the\n",
    "half-life, we want to know the decay rate. When entering the following computation, you can try\n",
    "Numbats auto-completion functionality. Instead of typing out `halflife`, just type `half` and press\n",
    "`Tab`."
   ]
  },
  {
   "cell_type": "code",
   "execution_count": 2,
   "id": "df38a093-1029-457a-8628-81caa01ef566",
   "metadata": {},
   "outputs": [
    {
     "data": {
      "text/html": [
       "<sub>Elapsed time: 0.00 seconds.</sub>"
      ]
     },
     "execution_count": 2,
     "metadata": {},
     "output_type": "execute_result"
    }
   ],
   "source": [
    "let decay_rate = ln(2) / halflife"
   ]
  },
  {
   "cell_type": "markdown",
   "id": "8d20a94d-8321-4f80-9e24-48889aa210af",
   "metadata": {},
   "source": [
    "As you can see, we can use typical [mathematical functions](https://numbat.dev/doc/list-functions.html) such as the natural logarithm `ln`. Next, we are interested how much radioactivity comes from a certain mass of potassium:"
   ]
  },
  {
   "cell_type": "code",
   "execution_count": 3,
   "id": "43ee0e11-2bee-4338-9aab-136d5664e211",
   "metadata": {},
   "outputs": [
    {
     "data": {
      "text/html": [
       "<code>  </code><span style=\"color: #43a17e\">30.9526</span><code> </code><span style=\"color: #0a0afe\">Bq/g</span>"
      ]
     },
     "execution_count": 3,
     "metadata": {},
     "output_type": "execute_result"
    },
    {
     "data": {
      "image/png": "[encoded data removed]"
     },
     "execution_count": 3,
     "metadata": {},
     "output_type": "execute_result"
    },
    {
     "data": {
      "text/html": [
       "<sub>Elapsed time: 0.00 seconds.</sub>"
      ]
     },
     "execution_count": 3,
     "metadata": {},
     "output_type": "execute_result"
    }
   ],
   "source": [
    "let radioactivity =\n",
    "    N_A * occurence * decay_rate / molar_mass -> Bq / g\n",
    "\n",
    "radioactivity"
   ]
  },
  {
   "cell_type": "markdown",
   "id": "e4e5cc2c-9a21-409c-84e1-848a0685f789",
   "metadata": {},
   "source": [
    "The `-> Bq / g` part at the end converts the expression to Becquerel per gram. If you type\n",
    "in `radioactivity`, you should see a result of roughly `31 Bq / g`, i.e. 31 radioactive\n",
    "decays per second, per gram of potassium.\n",
    "\n",
    "The unit conversion also serves another purpose. If anything would be wrong with our\n",
    "calculation at the units-level, Numbat would detect that and show an error.\n",
    "Unit safety is a powerful concept not just because you can eliminate an entire category\n",
    "of errors, but also because it makes your computations more readable.\n",
    "\n",
    "We are interested in the radioactivity of bananas, so we first introduce a new (base) unit"
   ]
  },
  {
   "cell_type": "code",
   "execution_count": 4,
   "id": "45ab4bb0-242f-404d-8380-991be16b7da2",
   "metadata": {},
   "outputs": [
    {
     "data": {
      "text/html": [
       "<sub>Elapsed time: 0.00 seconds.</sub>"
      ]
     },
     "execution_count": 4,
     "metadata": {},
     "output_type": "execute_result"
    }
   ],
   "source": [
    "unit banana"
   ]
  },
  {
   "cell_type": "markdown",
   "id": "dfeca8c5-41f5-4ef7-b379-cb9d35d987fb",
   "metadata": {},
   "source": [
    "This lets us write readable code like"
   ]
  },
  {
   "cell_type": "code",
   "execution_count": 5,
   "id": "fc9144cc-0bc8-4f33-b4e1-6f5182ef70a2",
   "metadata": {},
   "outputs": [
    {
     "data": {
      "text/html": [
       "<code>  </code><span style=\"color: #282e75\">13.9596</span><code> </code><span style=\"color: #015b0b\">Bq/banana</span>"
      ]
     },
     "execution_count": 5,
     "metadata": {},
     "output_type": "execute_result"
    },
    {
     "data": {
      "text/html": [
       "<sub>Elapsed time: 0.00 seconds.</sub>"
      ]
     },
     "execution_count": 5,
     "metadata": {},
     "output_type": "execute_result"
    }
   ],
   "source": [
    "let potassium_per_banana = 451 mg / banana\n",
    "\n",
    "let radioactivity_banana = potassium_per_banana * radioactivity -> Bq / banana\n",
    "\n",
    "radioactivity_banana"
   ]
  },
  {
   "cell_type": "markdown",
   "id": "8217de5e-9b0b-4c05-b585-1316323c6ae7",
   "metadata": {},
   "source": [
    "and should give you a result of rougly `14 Bq / banana`. Adding unit conversions at the end\n",
    "of unit definitions is one way to enforce unit safety. An even more powerful way to do this\n",
    "is to add *type annotations*: For example, to define the [decay energy for a single\n",
    "potassium-40 atom](https://commons.wikimedia.org/wiki/File:Potassium-40-decay-scheme.svg),\n",
    "you can optionally add a `: Energy` annotation that will be enforced by Numbat:\n"
   ]
  },
  {
   "cell_type": "code",
   "execution_count": 6,
   "id": "80f40e5e-08a8-4f60-855a-9cdfad67c33f",
   "metadata": {},
   "outputs": [
    {
     "data": {
      "text/html": [
       "<sub>Elapsed time: 0.00 seconds.</sub>"
      ]
     },
     "execution_count": 6,
     "metadata": {},
     "output_type": "execute_result"
    }
   ],
   "source": [
    "let energy_per_decay: Energy = 11 percent × 1.5 MeV + 89 percent × 1.3 MeV"
   ]
  },
  {
   "cell_type": "markdown",
   "id": "5f5d2da8-dfa4-4633-83a7-0bbb9c14fe3e",
   "metadata": {},
   "source": [
    "This also works with custom units since Numbat adds new physical dimensions (types) implicitly:"
   ]
  },
  {
   "cell_type": "code",
   "execution_count": 7,
   "id": "f5ac2442-be48-41f9-8590-a667f68898dd",
   "metadata": {},
   "outputs": [
    {
     "data": {
      "text/html": [
       "<sub>Elapsed time: 0.00 seconds.</sub>"
      ]
     },
     "execution_count": 7,
     "metadata": {},
     "output_type": "execute_result"
    }
   ],
   "source": [
    "let power_per_banana: Power / Banana = radioactivity_banana * energy_per_decay"
   ]
  },
  {
   "cell_type": "markdown",
   "id": "df166031-da6b-46ee-b20e-5feac4f10936",
   "metadata": {},
   "source": [
    "You'll also notice that types can be combined via mathematical operators such as `/` in this example.\n",
    "\n",
    "How many bananas we need to power a household is going to depend on the average power consumption\n",
    "of that household. So we are defining a simple function"
   ]
  },
  {
   "cell_type": "code",
   "execution_count": 8,
   "id": "ad49e62b-702b-4a52-8a3b-a0fb9008ed8f",
   "metadata": {},
   "outputs": [
    {
     "data": {
      "text/html": [
       "<sub>Elapsed time: 0.00 seconds.</sub>"
      ]
     },
     "execution_count": 8,
     "metadata": {},
     "output_type": "execute_result"
    }
   ],
   "source": [
    "fn household_power(annual_consumption: Energy) -> Power = annual_consumption / year"
   ]
  },
  {
   "cell_type": "markdown",
   "id": "8d5c1b7e-e31a-444a-b468-325098a3d1c0",
   "metadata": {},
   "source": [
    "This allows us to finally answer the original question (for a [typical US household in 2021](https://www.eia.gov/tools/faqs/faq.php?id=97))\n"
   ]
  },
  {
   "cell_type": "code",
   "execution_count": 9,
   "id": "b5ba9ec2-7807-4828-86e4-8a2715ec02ce",
   "metadata": {},
   "outputs": [
    {
     "data": {
      "text/html": [
       "<code>  </code><span style=\"color: #282e75\">3.85826e14</span><code> </code><span style=\"color: #015b0b\">banana</span>"
      ]
     },
     "execution_count": 9,
     "metadata": {},
     "output_type": "execute_result"
    },
    {
     "data": {
      "text/html": [
       "<sub>Elapsed time: 0.00 seconds.</sub>"
      ]
     },
     "execution_count": 9,
     "metadata": {},
     "output_type": "execute_result"
    }
   ],
   "source": [
    "household_power(10000 kWh) / power_per_banana"
   ]
  },
  {
   "cell_type": "markdown",
   "id": "b3b6f057-037b-4c80-b855-8b7b3adcbe49",
   "metadata": {},
   "source": [
    "This should give you a result of roughly 4×10<sup style=\"line-height: 0\">14</sup> bananas.\n",
    "\n",
    "<p align=\"center\"><img src=\"https://what-if.xkcd.com/imgs/a/158/10bunches.png\"></p>"
   ]
  }
 ],
 "metadata": {
  "kernelspec": {
   "display_name": "Numbat",
   "language": "numbat",
   "name": "numbat"
  },
  "language_info": {
   "codemirror_mode": "rust",
   "file_extension": "*.nbt",
   "mimetype": "python",
   "name": "Numbat",
   "nbconvert_exporter": "rust",
   "pygment_lexer": "python",
   "version": "0.1.0"
  }
 },
 "nbformat": 4,
 "nbformat_minor": 5
}
